{
 "cells": [
  {
   "cell_type": "code",
   "execution_count": null,
   "metadata": {},
   "outputs": [],
   "source": [
    "import deepqmc\n",
    "import haiku as hk\n",
    "import jax"
   ]
  },
  {
   "cell_type": "code",
   "execution_count": null,
   "metadata": {},
   "outputs": [],
   "source": [
    "from deepqmc.molecule import Molecule\n",
    "\n",
    "mol = Molecule(  # LiH\n",
    "    coords=[[0.0, 0.0, 0.0], [3.015, 0.0, 0.0]],\n",
    "    charges=[3, 1],\n",
    "    charge=0,\n",
    "    spin=0,\n",
    "    unit='bohr',\n",
    ")"
   ]
  },
  {
   "cell_type": "code",
   "execution_count": null,
   "metadata": {},
   "outputs": [],
   "source": [
    "from deepqmc.hamil import MolecularHamiltonian\n",
    "\n",
    "H = MolecularHamiltonian(mol=mol)"
   ]
  },
  {
   "cell_type": "code",
   "execution_count": null,
   "metadata": {},
   "outputs": [],
   "source": [
    "import os\n",
    "\n",
    "import haiku as hk\n",
    "from hydra import compose, initialize_config_dir\n",
    "from hydra.utils import instantiate\n",
    "\n",
    "import deepqmc\n",
    "from deepqmc.app import instantiate_ansatz\n",
    "\n",
    "\n",
    "deepqmc_dir = os.path.dirname(deepqmc.__file__)\n",
    "config_dir = os.path.join(deepqmc_dir, 'conf/ansatz')\n",
    "\n",
    "with initialize_config_dir(version_base=None, config_dir=config_dir):\n",
    "    cfg = compose(config_name='psiformer')\n",
    "\n",
    "_ansatz = instantiate(cfg, _recursive_=True, _convert_='all')\n",
    "\n",
    "psiformer_ansatz = instantiate_ansatz(H, _ansatz)"
   ]
  },
  {
   "cell_type": "code",
   "execution_count": null,
   "metadata": {},
   "outputs": [],
   "source": [
    "from deepqmc.wf.nn_wave_function import eval_log_slater, Psi\n",
    "from deepqmc.wf.env import ExponentialEnvelopes\n",
    "from deepqmc.physics import pairwise_diffs\n",
    "from deepqmc.app import instantiate_ansatz\n",
    "from deepqmc.types import PhysicalConfiguration\n",
    "import jax.numpy as jnp\n",
    "\n",
    "class MyWF(hk.Module):\n",
    "    def __init__(\n",
    "        self,\n",
    "        hamil,\n",
    "    ):\n",
    "        super().__init__()\n",
    "        self.mol = hamil.mol\n",
    "        self.n_up, self.n_down = hamil.n_up, hamil.n_down\n",
    "        self.charges = hamil.mol.charges\n",
    "        self.env = ExponentialEnvelopes(hamil,1,isotropic=False, per_shell=False, per_orbital_exponent=False, spin_restricted=False, init_to_ones=False, softplus_zeta=False)\n",
    "\n",
    "    @property\n",
    "    def spin_slices(self):\n",
    "        return slice(None, self.n_up), slice(self.n_up, None)\n",
    "\n",
    "    def __call__(self, phys_conf:PhysicalConfiguration, _):\n",
    "        n_elec = self.n_up + self.n_down\n",
    "        orb = self.env(phys_conf, None)\n",
    "        elec_nuc_diffs = pairwise_diffs(phys_conf.r, phys_conf.R).reshape(n_elec, -1)\n",
    "        elec_emebeddings = jnp.concatenate((elec_nuc_diffs, jnp.concatenate((jnp.ones(self.n_up), -jnp.ones(self.n_down)))[...,None]),axis=-1) \n",
    "        # TRANSFORMER BLOCK\n",
    "        f = hk.Linear(self.n_up+self.n_down)(elec_emebeddings)\n",
    "        orb *= f[None]\n",
    "        sign_psi, log_psi = eval_log_slater(orb)\n",
    "        sign_psi = jax.lax.stop_gradient(sign_psi)\n",
    "        return Psi(sign_psi.squeeze(), log_psi.squeeze())\n"
   ]
  },
  {
   "cell_type": "code",
   "execution_count": null,
   "metadata": {},
   "outputs": [],
   "source": [
    "my_ansatz = instantiate_ansatz(H, MyWF)"
   ]
  },
  {
   "cell_type": "code",
   "execution_count": null,
   "metadata": {},
   "outputs": [],
   "source": [
    "from deepqmc.sampling import initialize_sampling, MetropolisSampler, DecorrSampler, combine_samplers\n",
    "from functools import partial\n",
    "\n",
    "elec_sampler = partial(combine_samplers, samplers=[DecorrSampler(length=20), partial(MetropolisSampler)])\n",
    "sampler_factory = partial(initialize_sampling, elec_sampler=elec_sampler)"
   ]
  },
  {
   "cell_type": "code",
   "execution_count": null,
   "metadata": {},
   "outputs": [],
   "source": [
    "import os\n",
    "\n",
    "from hydra import compose, initialize_config_dir\n",
    "from hydra.utils import instantiate\n",
    "\n",
    "deepqmc_dir = os.path.dirname(deepqmc.__file__)\n",
    "config_dir = os.path.join(deepqmc_dir, 'conf/task/opt')\n",
    "\n",
    "with initialize_config_dir(version_base=None, config_dir=config_dir):\n",
    "    cfg = compose(config_name='kfac')\n",
    "\n",
    "kfac = instantiate(cfg, _recursive_=True, _convert_='all')"
   ]
  },
  {
   "cell_type": "code",
   "execution_count": null,
   "metadata": {},
   "outputs": [],
   "source": [
    "from deepqmc.train import train\n",
    "train(H, psiformer_ansatz, kfac, sampler_factory, steps=1000, electron_batch_size=2000, seed=42, workdir='tmp2')"
   ]
  },
  {
   "cell_type": "code",
   "execution_count": null,
   "metadata": {},
   "outputs": [],
   "source": [
    "import h5py\n",
    "with h5py.File('tmp/training/result.h5', 'r', swmr=True) as f:\n",
    "    energy = f['local_energy']['mean'][:]"
   ]
  },
  {
   "cell_type": "code",
   "execution_count": null,
   "metadata": {},
   "outputs": [],
   "source": [
    "import matplotlib.pyplot as plt\n",
    "import pandas as pd\n",
    "\n",
    "plt.plot(energy[:,0,0])\n",
    "plt.plot(pd.DataFrame(energy[:,0,0]).ewm(halflife=5).mean())\n",
    "plt.xlabel('Training iteration')\n",
    "plt.ylabel('Energy')\n",
    "plt.show()"
   ]
  }
 ],
 "metadata": {
  "kernelspec": {
   "display_name": "geometric-transferability",
   "language": "python",
   "name": "python3"
  },
  "language_info": {
   "codemirror_mode": {
    "name": "ipython",
    "version": 3
   },
   "file_extension": ".py",
   "mimetype": "text/x-python",
   "name": "python",
   "nbconvert_exporter": "python",
   "pygments_lexer": "ipython3",
   "version": "3.11.2"
  }
 },
 "nbformat": 4,
 "nbformat_minor": 2
}
